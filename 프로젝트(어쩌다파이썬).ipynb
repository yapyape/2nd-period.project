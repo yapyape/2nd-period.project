{
  "nbformat": 4,
  "nbformat_minor": 0,
  "metadata": {
    "colab": {
      "provenance": [],
      "authorship_tag": "ABX9TyNps+GQaHQfZJ3HvtkR21Hx",
      "include_colab_link": true
    },
    "kernelspec": {
      "name": "python3",
      "display_name": "Python 3"
    },
    "language_info": {
      "name": "python"
    }
  },
  "cells": [
    {
      "cell_type": "markdown",
      "metadata": {
        "id": "view-in-github",
        "colab_type": "text"
      },
      "source": [
        "<a href=\"https://colab.research.google.com/github/yapyape/2nd-period.project/blob/main/%ED%94%84%EB%A1%9C%EC%A0%9D%ED%8A%B8(%EC%96%B4%EC%A9%8C%EB%8B%A4%ED%8C%8C%EC%9D%B4%EC%8D%AC).ipynb\" target=\"_parent\"><img src=\"https://colab.research.google.com/assets/colab-badge.svg\" alt=\"Open In Colab\"/></a>"
      ]
    },
    {
      "cell_type": "code",
      "execution_count": 22,
      "metadata": {
        "id": "klCrOMFeaAYD",
        "colab": {
          "base_uri": "https://localhost:8080/"
        },
        "outputId": "03b6da6f-c3a4-487c-dbc5-dfcd5f62d046"
      },
      "outputs": [
        {
          "output_type": "stream",
          "name": "stdout",
          "text": [
            "오늘의 샐러드를 디자인해 봅시다.\n",
            "기본 채소는 케일 입니다.\n",
            "혹시 채소가 부족한가요? (네 or 아니오): 아니오\n",
            "오늘의 건강 단백질은 닭가슴살구이를 추천합니다.\n",
            "식감을 위해서는 콩도 놓칠 수 없죠!\n",
            "렌틸콩 한 스푼 넣어 보세요.\n",
            "오리엔탈 드레싱으로 마무리 해 봅시다.\n",
            "오늘도 건강한 다이어트! 맛있게 드세요~\n"
          ]
        }
      ],
      "source": [
        "import random\n",
        "import time\n",
        "\n",
        "Basic = ['로메인 상추', '양상추', '적근대', '케일', '치커리', '적채']\n",
        "Add = ['루꼴라', '샐러리', '래디쉬 무', '무순', '비타민', '청경채']\n",
        "Protein = ['소고기 구이', '닭가슴살 구이', '훈제 연어', '삶은 달걀', '참치', '목살구이']\n",
        "Grains = ['병아리콩', '렌틸콩', '현미', '옥수수', '퀴노아']\n",
        "Dressing = ['발사믹', '오리엔탈', '키위', '칠리', '흑임자']\n",
        "\n",
        "print('오늘의 샐러드를 디자인해 봅시다.')\n",
        "time.sleep(2)\n",
        "print('기본 채소는 ' + random.choice(Basic)+ ' 입니다.')\n",
        "time.sleep(2)\n",
        "x = input('혹시 채소가 부족한가요? (네 or 아니오): ')\n",
        "\n",
        "if x == '네' :\n",
        "  print('그렇다면 ' + random.choice(Add) + '를 더 넣어보는 건 어떨까요?')\n",
        "  time.sleep(2)\n",
        "  print('오늘의 건강 단백질은 ' + random.choice(Protein) + '를 추천합니다.')\n",
        "  time.sleep(2)\n",
        "else :\n",
        "  print('오늘의 건강 단백질은 ' + random.choice(Protein) + '를 추천합니다.')\n",
        "  time.sleep(2)\n",
        "  \n",
        "print('식감을 위해서는 콩도 놓칠 수 없죠!')\n",
        "time.sleep(2)\n",
        "print(random.choice(Grains) + ' 한 스푼 넣어 보세요.')\n",
        "time.sleep(2)\n",
        "print(random.choice(Dressing) + ' 드레싱으로 마무리 해 봅시다.')\n",
        "time.sleep(2)\n",
        "print('오늘도 건강한 다이어트! 맛있게 드세요~')"
      ]
    }
  ]
}